{
 "cells": [
  {
   "cell_type": "markdown",
   "metadata": {},
   "source": [
    "# Playground Notebook to test and show how the API classes can be used"
   ]
  },
  {
   "cell_type": "markdown",
   "metadata": {},
   "source": [
    "Make sure to have `jupyter` install before using the notebook (`pip install jupyter`)"
   ]
  },
  {
   "cell_type": "markdown",
   "metadata": {},
   "source": [
    "## Setup the notebook"
   ]
  },
  {
   "cell_type": "code",
   "execution_count": 1,
   "metadata": {},
   "outputs": [],
   "source": [
    "from pathlib import Path\n",
    "\n",
    "if Path.cwd().name != \"AOE2_friendlies_ITA\":\n",
    "    %cd ..\n",
    "\n",
    "%load_ext autoreload\n",
    "%autoreload 2"
   ]
  },
  {
   "cell_type": "markdown",
   "metadata": {},
   "source": [
    "## Imports"
   ]
  },
  {
   "cell_type": "code",
   "execution_count": 2,
   "metadata": {},
   "outputs": [],
   "source": [
    "import requests\n",
    "\n",
    "from modules.api.getRecentMatchHistory import getRecentMatchHistory\n",
    "from modules.api.getAvailableLeaderboards import getAvailableLeaderboards\n",
    "from modules.constants import MY_STEAM_ID\n"
   ]
  },
  {
   "cell_type": "markdown",
   "metadata": {},
   "source": [
    "## Call an API"
   ]
  },
  {
   "cell_type": "code",
   "execution_count": 3,
   "metadata": {},
   "outputs": [],
   "source": [
    "resp_matches = requests.get(\n",
    "    \"https://aoe-api.worldsedgelink.com/community/leaderboard/getRecentMatchHistory?title=age2&profile_names=[%22%2Fsteam%2F\"\n",
    "    + str(MY_STEAM_ID)\n",
    "    + \"%22]\"\n",
    ").json()"
   ]
  },
  {
   "cell_type": "markdown",
   "metadata": {},
   "source": [
    "## Load the API response into the specific class\n",
    "After loading the response into the correct class, it is possible to access its elements with the `.` notation. \n",
    "\n",
    "For example,  below we access the list of matches contained in the response\n",
    "Then we check the mapname of the first match in the list, and the profile ID of the first player in that match\n"
   ]
  },
  {
   "cell_type": "code",
   "execution_count": 4,
   "metadata": {},
   "outputs": [
    {
     "name": "stdout",
     "output_type": "stream",
     "text": [
      "Yucatan.rms\n",
      "3456402\n"
     ]
    }
   ],
   "source": [
    "api_response = getRecentMatchHistory(**resp_matches)\n",
    "\n",
    "\n",
    "print(api_response.matchHistoryStats[0].mapname)\n",
    "print(api_response.matchHistoryStats[0].matchhistorymember[0].profile_id)\n"
   ]
  },
  {
   "cell_type": "code",
   "execution_count": 5,
   "metadata": {},
   "outputs": [],
   "source": [
    "resp_matches = requests.get(\n",
    "    \"https://aoe-api.worldsedgelink.com/community/leaderboard/GetAvailableLeaderboards?title=age2\"\n",
    ").json()\n",
    "api2_response = getAvailableLeaderboards(**resp_matches)"
   ]
  },
  {
   "cell_type": "code",
   "execution_count": 6,
   "metadata": {},
   "outputs": [
    {
     "data": {
      "text/plain": [
       "[MatchType(id=2, name='1V1', locstringid=-1),\n",
       " MatchType(id=3, name='2V2', locstringid=-1),\n",
       " MatchType(id=4, name='3V3', locstringid=-1),\n",
       " MatchType(id=5, name='4V4', locstringid=-1),\n",
       " MatchType(id=6, name='1V1', locstringid=-1),\n",
       " MatchType(id=7, name='2V2', locstringid=-1),\n",
       " MatchType(id=8, name='3V3', locstringid=-1),\n",
       " MatchType(id=9, name='4V4', locstringid=-1),\n",
       " MatchType(id=10, name='FFA', locstringid=-1),\n",
       " MatchType(id=26, name='1V1', locstringid=-1),\n",
       " MatchType(id=27, name='2V2', locstringid=-1),\n",
       " MatchType(id=28, name='3V3', locstringid=-1),\n",
       " MatchType(id=29, name='4V4', locstringid=-1),\n",
       " MatchType(id=60, name='CUSTOM_DM_1v1', locstringid=-1),\n",
       " MatchType(id=61, name='CUSTOM_DM_TEAM', locstringid=-1),\n",
       " MatchType(id=66, name='1V1', locstringid=-1),\n",
       " MatchType(id=67, name='2V2', locstringid=-1),\n",
       " MatchType(id=68, name='3V3', locstringid=-1),\n",
       " MatchType(id=69, name='4V4', locstringid=-1),\n",
       " MatchType(id=86, name='1V1', locstringid=-1),\n",
       " MatchType(id=87, name='2V2', locstringid=-1),\n",
       " MatchType(id=88, name='3V3', locstringid=-1),\n",
       " MatchType(id=89, name='4V4', locstringid=-1),\n",
       " MatchType(id=120, name='CUSTOM_POM_1v1', locstringid=-1),\n",
       " MatchType(id=121, name='CUSTOM_POM_TEAM', locstringid=-1),\n",
       " MatchType(id=122, name='RBW_EL_REINADO', locstringid=-1),\n",
       " MatchType(id=123, name='RBW_EL_REINADO', locstringid=-1)]"
      ]
     },
     "execution_count": 6,
     "metadata": {},
     "output_type": "execute_result"
    }
   ],
   "source": [
    "api2_response.matchTypes"
   ]
  },
  {
   "cell_type": "code",
   "execution_count": 7,
   "metadata": {},
   "outputs": [
    {
     "data": {
      "text/plain": [
       "[Race(id=0, name='Aztec', faction_id=0, locstringid=-1),\n",
       " Race(id=1, name='Berbers', faction_id=0, locstringid=-1),\n",
       " Race(id=2, name='Britons', faction_id=0, locstringid=-1),\n",
       " Race(id=3, name='Bulgarians', faction_id=0, locstringid=-1),\n",
       " Race(id=4, name='Burmese', faction_id=0, locstringid=-1),\n",
       " Race(id=5, name='Byzantines', faction_id=0, locstringid=-1),\n",
       " Race(id=6, name='Celts', faction_id=0, locstringid=-1),\n",
       " Race(id=7, name='Chinese', faction_id=0, locstringid=-1),\n",
       " Race(id=8, name='Cumans', faction_id=0, locstringid=-1),\n",
       " Race(id=9, name='Ethiopians', faction_id=0, locstringid=-1),\n",
       " Race(id=10, name='Franks', faction_id=0, locstringid=-1),\n",
       " Race(id=11, name='Goths', faction_id=0, locstringid=-1),\n",
       " Race(id=12, name='Huns', faction_id=0, locstringid=-1),\n",
       " Race(id=13, name='Incas', faction_id=0, locstringid=-1),\n",
       " Race(id=14, name='Hindustanis', faction_id=0, locstringid=-1),\n",
       " Race(id=15, name='Italians', faction_id=0, locstringid=-1),\n",
       " Race(id=16, name='Japanese', faction_id=0, locstringid=-1),\n",
       " Race(id=17, name='Khmer', faction_id=0, locstringid=-1),\n",
       " Race(id=18, name='Koreans', faction_id=0, locstringid=-1),\n",
       " Race(id=19, name='Lithuanians', faction_id=0, locstringid=-1),\n",
       " Race(id=20, name='Magyars', faction_id=0, locstringid=-1),\n",
       " Race(id=21, name='Malay', faction_id=0, locstringid=-1),\n",
       " Race(id=22, name='Malians', faction_id=0, locstringid=-1),\n",
       " Race(id=23, name='Mayans', faction_id=0, locstringid=-1),\n",
       " Race(id=24, name='Mongols', faction_id=0, locstringid=-1),\n",
       " Race(id=25, name='Persians', faction_id=0, locstringid=-1),\n",
       " Race(id=26, name='Portuguese', faction_id=0, locstringid=-1),\n",
       " Race(id=27, name='Saracens', faction_id=0, locstringid=-1),\n",
       " Race(id=28, name='Slavs', faction_id=0, locstringid=-1),\n",
       " Race(id=29, name='Spanish', faction_id=0, locstringid=-1),\n",
       " Race(id=30, name='Tatars', faction_id=0, locstringid=-1),\n",
       " Race(id=31, name='Teutons', faction_id=0, locstringid=-1),\n",
       " Race(id=32, name='Turks', faction_id=0, locstringid=-1),\n",
       " Race(id=33, name='Vietnamese', faction_id=0, locstringid=-1),\n",
       " Race(id=34, name='Vikings', faction_id=0, locstringid=-1),\n",
       " Race(id=35, name='Burgundians', faction_id=0, locstringid=-1),\n",
       " Race(id=36, name='Sicilians', faction_id=0, locstringid=-1),\n",
       " Race(id=37, name='Poles', faction_id=0, locstringid=-1),\n",
       " Race(id=38, name='Bohemians', faction_id=0, locstringid=-1),\n",
       " Race(id=39, name='Bengalis', faction_id=0, locstringid=-1),\n",
       " Race(id=40, name='Dravidians', faction_id=0, locstringid=-1),\n",
       " Race(id=41, name='Gurjaras', faction_id=0, locstringid=-1),\n",
       " Race(id=42, name='Romans', faction_id=0, locstringid=-1),\n",
       " Race(id=43, name='Armenians', faction_id=0, locstringid=-1),\n",
       " Race(id=44, name='Georgians', faction_id=0, locstringid=-1)]"
      ]
     },
     "execution_count": 7,
     "metadata": {},
     "output_type": "execute_result"
    }
   ],
   "source": [
    "api2_response.races"
   ]
  },
  {
   "cell_type": "code",
   "execution_count": 9,
   "metadata": {},
   "outputs": [
    {
     "name": "stderr",
     "output_type": "stream",
     "text": [
      "2024-09-15 23:35:03,469 - my_logger - INFO - Trying to call https://aoe-api.worldsedgelink.com/community/leaderboard/getRecentMatchHistory?title=age2&profile_names=[%22%2Fsteam%2F76561198342887481%22]\n",
      "2024-09-15 23:35:04,604 - my_logger - INFO - Trying to call https://aoe-api.worldsedgelink.com/community/leaderboard/getRecentMatchHistory?title=age2&profile_names=[%22%2Fsteam%2F76561198342887481%22]\n",
      "2024-09-15 23:35:05,627 - my_logger - INFO - Trying to call https://aoe-api.worldsedgelink.com/community/leaderboard/getRecentMatchHistory?title=age2&profile_names=[%22%2Fsteam%2F76561198342887481%22]\n",
      "2024-09-15 23:35:06,976 - my_logger - INFO - Trying to call https://aoe-api.worldsedgelink.com/community/leaderboard/getRecentMatchHistory?title=age2&profile_names=[%22%2Fsteam%2F76561198342887481%22]\n",
      "2024-09-15 23:35:07,998 - my_logger - INFO - Trying to call https://aoe-api.worldsedgelink.com/community/leaderboard/getRecentMatchHistory?title=age2&profile_names=[%22%2Fsteam%2F76561198342887481%22]\n",
      "2024-09-15 23:35:09,007 - my_logger - INFO - Trying to call https://aoe-api.worldsedgelink.com/community/leaderboard/getRecentMatchHistory?title=age2&profile_names=[%22%2Fsteam%2F76561198342887481%22]\n",
      "2024-09-15 23:35:10,171 - my_logger - INFO - Trying to call https://aoe-api.worldsedgelink.com/community/leaderboard/getRecentMatchHistory?title=age2&profile_names=[%22%2Fsteam%2F76561198342887481%22]\n",
      "2024-09-15 23:35:11,267 - my_logger - INFO - Trying to call https://aoe-api.worldsedgelink.com/community/leaderboard/getRecentMatchHistory?title=age2&profile_names=[%22%2Fsteam%2F76561198342887481%22]\n",
      "2024-09-15 23:35:12,377 - my_logger - INFO - Trying to call https://aoe-api.worldsedgelink.com/community/leaderboard/getRecentMatchHistory?title=age2&profile_names=[%22%2Fsteam%2F76561198342887481%22]\n",
      "2024-09-15 23:35:13,396 - my_logger - INFO - Trying to call https://aoe-api.worldsedgelink.com/community/leaderboard/getRecentMatchHistory?title=age2&profile_names=[%22%2Fsteam%2F76561198342887481%22]\n"
     ]
    }
   ],
   "source": [
    "from modules.api.api_call import ApiRateLimiter\n",
    "\n",
    "URL = (\n",
    "    \"https://aoe-api.worldsedgelink.com/community/leaderboard/getRecentMatchHistory?title=age2&profile_names=[%22%2Fsteam%2F\"\n",
    "    + str(MY_STEAM_ID)\n",
    "    + \"%22]\"\n",
    ")\n",
    "\n",
    "api_caller = ApiRateLimiter(50)\n",
    "\n",
    "responses = []\n",
    "\n",
    "for i in range(5):\n",
    "    responses.append(api_caller.make_request(URL))"
   ]
  }
 ],
 "metadata": {
  "kernelspec": {
   "display_name": "aoe",
   "language": "python",
   "name": "python3"
  },
  "language_info": {
   "codemirror_mode": {
    "name": "ipython",
    "version": 3
   },
   "file_extension": ".py",
   "mimetype": "text/x-python",
   "name": "python",
   "nbconvert_exporter": "python",
   "pygments_lexer": "ipython3",
   "version": "3.12.4"
  }
 },
 "nbformat": 4,
 "nbformat_minor": 2
}
