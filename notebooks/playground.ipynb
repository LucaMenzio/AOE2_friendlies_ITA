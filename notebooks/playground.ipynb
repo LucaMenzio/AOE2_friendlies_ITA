{
 "cells": [
  {
   "cell_type": "code",
   "execution_count": 11,
   "metadata": {},
   "outputs": [
    {
     "name": "stdout",
     "output_type": "stream",
     "text": [
      "The autoreload extension is already loaded. To reload it, use:\n",
      "  %reload_ext autoreload\n"
     ]
    }
   ],
   "source": [
    "from pathlib import Path\n",
    "\n",
    "if Path.cwd().name != \"AOE2_friendlies_ITA\":\n",
    "    %cd ..\n",
    "\n",
    "%load_ext autoreload\n",
    "%autoreload 2"
   ]
  },
  {
   "cell_type": "code",
   "execution_count": 12,
   "metadata": {},
   "outputs": [],
   "source": [
    "import requests\n",
    "\n",
    "from modules.api.api import ApiResponse\n",
    "from modules.api.schemas.getRecentMatchHistory import getRecentMatchHistory\n",
    "from modules.constants import MY_STEAM_ID\n"
   ]
  },
  {
   "cell_type": "code",
   "execution_count": 13,
   "metadata": {},
   "outputs": [],
   "source": [
    "resp_matches = requests.get(\n",
    "    \"https://aoe-api.worldsedgelink.com/community/leaderboard/getRecentMatchHistory?title=age2&profile_names=[%22%2Fsteam%2F\"\n",
    "    + str(MY_STEAM_ID)\n",
    "    + \"%22]\"\n",
    ").json()"
   ]
  },
  {
   "cell_type": "code",
   "execution_count": 14,
   "metadata": {},
   "outputs": [],
   "source": [
    "api_response = ApiResponse.from_dict(resp_matches)\n",
    "api_response2 = getRecentMatchHistory(**resp_matches)"
   ]
  },
  {
   "cell_type": "code",
   "execution_count": 15,
   "metadata": {},
   "outputs": [
    {
     "data": {
      "text/plain": [
       "{'matchhistory_id': 333620725,\n",
       " 'profile_id': 2767237,\n",
       " 'resulttype': 0,\n",
       " 'teamid': 0,\n",
       " 'race_id': 36,\n",
       " 'xpgained': 1,\n",
       " 'counters': '{}',\n",
       " 'matchstartdate': 1723973246,\n",
       " 'civilization_id': 36}"
      ]
     },
     "execution_count": 15,
     "metadata": {},
     "output_type": "execute_result"
    }
   ],
   "source": [
    "resp_matches[\"matchHistoryStats\"][0][\"matchhistoryreportresults\"][0]"
   ]
  }
 ],
 "metadata": {
  "kernelspec": {
   "display_name": "aoe",
   "language": "python",
   "name": "python3"
  },
  "language_info": {
   "codemirror_mode": {
    "name": "ipython",
    "version": 3
   },
   "file_extension": ".py",
   "mimetype": "text/x-python",
   "name": "python",
   "nbconvert_exporter": "python",
   "pygments_lexer": "ipython3",
   "version": "3.12.4"
  }
 },
 "nbformat": 4,
 "nbformat_minor": 2
}
